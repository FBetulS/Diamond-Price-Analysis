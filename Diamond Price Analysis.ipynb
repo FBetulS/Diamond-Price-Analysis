{
 "cells": [
  {
   "cell_type": "markdown",
   "id": "fc53dccc-6457-46e7-829a-4c56c9a9c0a1",
   "metadata": {},
   "source": [
    "# Diamond Price Analysis"
   ]
  },
  {
   "cell_type": "markdown",
   "id": "742fb836-b425-4015-aa35-e1d3db0c80a8",
   "metadata": {},
   "source": [
    "## Giriş"
   ]
  },
  {
   "cell_type": "markdown",
   "id": "10ff56ae-346d-4ad3-9a6b-3ea8c6cd496c",
   "metadata": {},
   "source": [
    "Projenin hedefi, elmasların fiyatlarını tahmin etmek için veri bilimi ve analitik yöntemler kullanarak, elmasların çeşitli özelliklerine dayalı bir analiz yapmaktır."
   ]
  },
  {
   "cell_type": "markdown",
   "id": "ad594aa7-efd4-454b-bdee-760e47859e9a",
   "metadata": {},
   "source": [
    "## Importing Libraries"
   ]
  },
  {
   "cell_type": "code",
   "execution_count": 5,
   "id": "1cefb390-945c-488f-bbd4-8ae7dee97993",
   "metadata": {},
   "outputs": [],
   "source": [
    "import numpy as np \n",
    "import pandas as pd \n",
    "import seaborn as sns\n",
    "import matplotlib as mpl\n",
    "import matplotlib.pyplot as plt\n",
    "import matplotlib.pylab as pylab\n",
    "from sklearn.preprocessing import OneHotEncoder, LabelEncoder\n",
    "from sklearn.model_selection import train_test_split\n",
    "from sklearn.preprocessing import StandardScaler\n",
    "from sklearn.decomposition import PCA\n",
    "from sklearn.pipeline import Pipeline\n",
    "from sklearn.tree import DecisionTreeRegressor\n",
    "from sklearn.ensemble import RandomForestRegressor\n",
    "from sklearn.linear_model import LinearRegression\n",
    "from xgboost import XGBRegressor\n",
    "from sklearn.neighbors import KNeighborsRegressor\n",
    "from sklearn.model_selection import cross_val_score\n",
    "from sklearn.metrics import mean_squared_error\n",
    "from sklearn import metrics\n",
    "from sklearn.preprocessing import LabelEncoder\n",
    "import warnings\n",
    "warnings.filterwarnings(\"ignore\")\n",
    "pd.set_option(\"display.max_columns\",None) \n",
    "pd.set_option('display.max_rows', None)"
   ]
  },
  {
   "cell_type": "code",
   "execution_count": 6,
   "id": "59ce9e7f-06e3-4410-9ebf-3b456027bbaa",
   "metadata": {},
   "outputs": [],
   "source": [
    "df = pd.read_csv(\"diamonds.csv\")"
   ]
  },
  {
   "cell_type": "code",
   "execution_count": 7,
   "id": "94bbd10d-1262-4556-93ad-98bf96c28b56",
   "metadata": {},
   "outputs": [
    {
     "data": {
      "text/html": [
       "<div>\n",
       "<style scoped>\n",
       "    .dataframe tbody tr th:only-of-type {\n",
       "        vertical-align: middle;\n",
       "    }\n",
       "\n",
       "    .dataframe tbody tr th {\n",
       "        vertical-align: top;\n",
       "    }\n",
       "\n",
       "    .dataframe thead th {\n",
       "        text-align: right;\n",
       "    }\n",
       "</style>\n",
       "<table border=\"1\" class=\"dataframe\">\n",
       "  <thead>\n",
       "    <tr style=\"text-align: right;\">\n",
       "      <th></th>\n",
       "      <th>Unnamed: 0</th>\n",
       "      <th>carat</th>\n",
       "      <th>cut</th>\n",
       "      <th>color</th>\n",
       "      <th>clarity</th>\n",
       "      <th>depth</th>\n",
       "      <th>table</th>\n",
       "      <th>price</th>\n",
       "      <th>x</th>\n",
       "      <th>y</th>\n",
       "      <th>z</th>\n",
       "    </tr>\n",
       "  </thead>\n",
       "  <tbody>\n",
       "    <tr>\n",
       "      <th>0</th>\n",
       "      <td>1</td>\n",
       "      <td>0.23</td>\n",
       "      <td>Ideal</td>\n",
       "      <td>E</td>\n",
       "      <td>SI2</td>\n",
       "      <td>61.5</td>\n",
       "      <td>55.0</td>\n",
       "      <td>326</td>\n",
       "      <td>3.95</td>\n",
       "      <td>3.98</td>\n",
       "      <td>2.43</td>\n",
       "    </tr>\n",
       "    <tr>\n",
       "      <th>1</th>\n",
       "      <td>2</td>\n",
       "      <td>0.21</td>\n",
       "      <td>Premium</td>\n",
       "      <td>E</td>\n",
       "      <td>SI1</td>\n",
       "      <td>59.8</td>\n",
       "      <td>61.0</td>\n",
       "      <td>326</td>\n",
       "      <td>3.89</td>\n",
       "      <td>3.84</td>\n",
       "      <td>2.31</td>\n",
       "    </tr>\n",
       "    <tr>\n",
       "      <th>2</th>\n",
       "      <td>3</td>\n",
       "      <td>0.23</td>\n",
       "      <td>Good</td>\n",
       "      <td>E</td>\n",
       "      <td>VS1</td>\n",
       "      <td>56.9</td>\n",
       "      <td>65.0</td>\n",
       "      <td>327</td>\n",
       "      <td>4.05</td>\n",
       "      <td>4.07</td>\n",
       "      <td>2.31</td>\n",
       "    </tr>\n",
       "    <tr>\n",
       "      <th>3</th>\n",
       "      <td>4</td>\n",
       "      <td>0.29</td>\n",
       "      <td>Premium</td>\n",
       "      <td>I</td>\n",
       "      <td>VS2</td>\n",
       "      <td>62.4</td>\n",
       "      <td>58.0</td>\n",
       "      <td>334</td>\n",
       "      <td>4.20</td>\n",
       "      <td>4.23</td>\n",
       "      <td>2.63</td>\n",
       "    </tr>\n",
       "    <tr>\n",
       "      <th>4</th>\n",
       "      <td>5</td>\n",
       "      <td>0.31</td>\n",
       "      <td>Good</td>\n",
       "      <td>J</td>\n",
       "      <td>SI2</td>\n",
       "      <td>63.3</td>\n",
       "      <td>58.0</td>\n",
       "      <td>335</td>\n",
       "      <td>4.34</td>\n",
       "      <td>4.35</td>\n",
       "      <td>2.75</td>\n",
       "    </tr>\n",
       "  </tbody>\n",
       "</table>\n",
       "</div>"
      ],
      "text/plain": [
       "   Unnamed: 0  carat      cut color clarity  depth  table  price     x     y  \\\n",
       "0           1   0.23    Ideal     E     SI2   61.5   55.0    326  3.95  3.98   \n",
       "1           2   0.21  Premium     E     SI1   59.8   61.0    326  3.89  3.84   \n",
       "2           3   0.23     Good     E     VS1   56.9   65.0    327  4.05  4.07   \n",
       "3           4   0.29  Premium     I     VS2   62.4   58.0    334  4.20  4.23   \n",
       "4           5   0.31     Good     J     SI2   63.3   58.0    335  4.34  4.35   \n",
       "\n",
       "      z  \n",
       "0  2.43  \n",
       "1  2.31  \n",
       "2  2.31  \n",
       "3  2.63  \n",
       "4  2.75  "
      ]
     },
     "execution_count": 7,
     "metadata": {},
     "output_type": "execute_result"
    }
   ],
   "source": [
    "df.head()"
   ]
  },
  {
   "cell_type": "code",
   "execution_count": 8,
   "id": "cfdee1a7-132e-4408-84e7-a48108910981",
   "metadata": {},
   "outputs": [
    {
     "data": {
      "text/plain": [
       "(53940, 11)"
      ]
     },
     "execution_count": 8,
     "metadata": {},
     "output_type": "execute_result"
    }
   ],
   "source": [
    "df.shape"
   ]
  },
  {
   "cell_type": "code",
   "execution_count": 9,
   "id": "6660d4c2-dec2-4966-be9b-9da8fedc8bb7",
   "metadata": {},
   "outputs": [
    {
     "data": {
      "text/plain": [
       "Unnamed: 0    0\n",
       "carat         0\n",
       "cut           0\n",
       "color         0\n",
       "clarity       0\n",
       "depth         0\n",
       "table         0\n",
       "price         0\n",
       "x             0\n",
       "y             0\n",
       "z             0\n",
       "dtype: int64"
      ]
     },
     "execution_count": 9,
     "metadata": {},
     "output_type": "execute_result"
    }
   ],
   "source": [
    "df.isnull().sum()"
   ]
  },
  {
   "cell_type": "code",
   "execution_count": 10,
   "id": "036323b1-b01b-4975-ad38-d3ce2ac3ff06",
   "metadata": {},
   "outputs": [
    {
     "name": "stdout",
     "output_type": "stream",
     "text": [
      "<class 'pandas.core.frame.DataFrame'>\n",
      "RangeIndex: 53940 entries, 0 to 53939\n",
      "Data columns (total 11 columns):\n",
      " #   Column      Non-Null Count  Dtype  \n",
      "---  ------      --------------  -----  \n",
      " 0   Unnamed: 0  53940 non-null  int64  \n",
      " 1   carat       53940 non-null  float64\n",
      " 2   cut         53940 non-null  object \n",
      " 3   color       53940 non-null  object \n",
      " 4   clarity     53940 non-null  object \n",
      " 5   depth       53940 non-null  float64\n",
      " 6   table       53940 non-null  float64\n",
      " 7   price       53940 non-null  int64  \n",
      " 8   x           53940 non-null  float64\n",
      " 9   y           53940 non-null  float64\n",
      " 10  z           53940 non-null  float64\n",
      "dtypes: float64(6), int64(2), object(3)\n",
      "memory usage: 4.5+ MB\n"
     ]
    }
   ],
   "source": [
    "df.info()"
   ]
  },
  {
   "cell_type": "markdown",
   "id": "5e77e4ff-3a41-400c-9470-60604a65c88b",
   "metadata": {},
   "source": [
    "### Pırlanta Veri Seti Veri Sözlüğü\n",
    "\n",
    "Bu veri seti, 53,940 pırlanta hakkında bilgi içermektedir ve 11 özellikten oluşmaktadır. Aşağıda her bir sütunun tanımı yer almaktadır:\n",
    "\n",
    "| Sütun Adı     | Veri Tipi | Açıklama                                                   |\n",
    "|---------------|-----------|-----------------------------------------------------------|\n",
    "| `Unnamed: 0`  | int64     | Her pırlanta kaydı için indeks veya tanımlayıcı           |\n",
    "| `carat`       | float64   | Pırlantanın ağırlığı, karat cinsinden ölçülmektedir      |\n",
    "| `cut`         | object    | Kesim kalitesi (örn. Ideal, Premium, Good)               |\n",
    "| `color`       | object    | Pırlanta rengi, bir harfle temsil edilmektedir (örn. D, E, J) |\n",
    "| `clarity`     | object    | Pırlantanın berraklık derecesi (örn. SI1, VS2)           |\n",
    "| `depth`       | float64   | Pırlantanın toplam derinlik yüzdesi                       |\n",
    "| `table`       | float64   | Pırlantanın masa yüzdesi                                   |\n",
    "| `price`       | int64     | Pırlantanın ABD doları cinsinden fiyatı                   |\n",
    "| `x`           | float64   | Pırlantanın uzunluğu, milimetre cinsinden                 |\n",
    "| `y`           | float64   | Pırlantanın genişliği, milimetre cinsinden                |\n",
    "| `z`           | float64   | Pırlantanın derinliği, milimetre cinsinden                |\n"
   ]
  },
  {
   "cell_type": "code",
   "execution_count": 12,
   "id": "20bedf7d-3d58-4ea2-8ec2-9d65b2f3d85e",
   "metadata": {},
   "outputs": [
    {
     "data": {
      "text/plain": [
       "clarity\n",
       "SI1     13065\n",
       "VS2     12258\n",
       "SI2      9194\n",
       "VS1      8171\n",
       "VVS2     5066\n",
       "VVS1     3655\n",
       "IF       1790\n",
       "I1        741\n",
       "Name: count, dtype: int64"
      ]
     },
     "execution_count": 12,
     "metadata": {},
     "output_type": "execute_result"
    }
   ],
   "source": [
    "df[\"clarity\"].value_counts()"
   ]
  },
  {
   "cell_type": "markdown",
   "id": "4216b21c-8d56-494d-b5a6-bb7d11b20363",
   "metadata": {},
   "source": [
    "### Berraklık Dereceleri Özeti\n",
    "\n",
    "- **IF:** İçsel kusursuz; en yüksek berraklık.\n",
    "- **VVS1:** Çok çok hafif dahil; zor görünür.\n",
    "- **VVS2:** Biraz daha içerik; genel olarak temiz.\n",
    "- **VS1:** Çok hafif dahil; zor görünür.\n",
    "- **VS2:** VS1'e göre daha fazla içerik.\n",
    "- **SI1:** Hafifçe dahil; zor görünür.\n",
    "- **SI2:** Daha fazla içerik; düşük berraklık.\n",
    "- **I1:** Gözle görülebilen büyük kusurlar; en düşük berraklık."
   ]
  },
  {
   "cell_type": "code",
   "execution_count": 14,
   "id": "16fe4056-6eec-4db6-be4b-250c5e00f969",
   "metadata": {},
   "outputs": [
    {
     "data": {
      "text/plain": [
       "color\n",
       "G    11292\n",
       "E     9797\n",
       "F     9542\n",
       "H     8304\n",
       "D     6775\n",
       "I     5422\n",
       "J     2808\n",
       "Name: count, dtype: int64"
      ]
     },
     "execution_count": 14,
     "metadata": {},
     "output_type": "execute_result"
    }
   ],
   "source": [
    "df[\"color\"].value_counts()"
   ]
  },
  {
   "cell_type": "markdown",
   "id": "2ff72bf2-0e14-48bf-b957-d29daaa0b0c1",
   "metadata": {},
   "source": [
    "### Kesim Kalitesi Özeti\n",
    "\n",
    "- **Ideal:** En yüksek kesim kalitesi, en iyi parlaklık ve estetik.\n",
    "- **Premium:** Yüksek kesim kalitesi, oldukça parlak ve değerli.\n",
    "- **Very Good:** İyi kesim kalitesi, tatmin edici parlaklık.\n",
    "- **Good:** Orta düzey kesim kalitesi, tatmin edici parlaklık.\n",
    "- **Fair:** En düşük kesim kalitesi, düşük parlaklık ve değer."
   ]
  },
  {
   "cell_type": "code",
   "execution_count": 16,
   "id": "2fca8d80-5183-4525-984d-e75fbc8b2959",
   "metadata": {},
   "outputs": [
    {
     "data": {
      "text/plain": [
       "cut\n",
       "Ideal        21551\n",
       "Premium      13791\n",
       "Very Good    12082\n",
       "Good          4906\n",
       "Fair          1610\n",
       "Name: count, dtype: int64"
      ]
     },
     "execution_count": 16,
     "metadata": {},
     "output_type": "execute_result"
    }
   ],
   "source": [
    "df[\"cut\"].value_counts()"
   ]
  },
  {
   "cell_type": "markdown",
   "id": "cab6a76a-18d8-43ae-89d7-5bb420c6ac36",
   "metadata": {},
   "source": [
    "### Renk Dereceleri Özeti\n",
    "\n",
    "- **D:** Renksiz (Colorless); en yüksek renk kalitesi.\n",
    "- **E:** Renksiz (Colorless); \"D\" derecesine yakın.\n",
    "- **F:** Renksiz (Colorless); \"D\" ve \"E\" derecelerine yakın.\n",
    "- **G:** Hafif Renkli (Near Colorless); çıplak gözle zor fark edilir.\n",
    "- **H:** Hafif Renkli (Near Colorless); renk farkı algılanabilir.\n",
    "- **I:** Hafif Renkli (Near Colorless); renk farkı belirgin.\n",
    "- **J:** Hafif Renkli (Near Colorless); daha belirgin renk farkı."
   ]
  },
  {
   "cell_type": "code",
   "execution_count": 18,
   "id": "bcf4e968-7038-4156-bcd1-24ece5873087",
   "metadata": {},
   "outputs": [],
   "source": [
    "dff= df.sort_values(by='price', ascending=False)"
   ]
  },
  {
   "cell_type": "code",
   "execution_count": 19,
   "id": "04e59aa8-c8cc-4a33-b070-6e81246854c6",
   "metadata": {},
   "outputs": [
    {
     "data": {
      "text/html": [
       "<div>\n",
       "<style scoped>\n",
       "    .dataframe tbody tr th:only-of-type {\n",
       "        vertical-align: middle;\n",
       "    }\n",
       "\n",
       "    .dataframe tbody tr th {\n",
       "        vertical-align: top;\n",
       "    }\n",
       "\n",
       "    .dataframe thead th {\n",
       "        text-align: right;\n",
       "    }\n",
       "</style>\n",
       "<table border=\"1\" class=\"dataframe\">\n",
       "  <thead>\n",
       "    <tr style=\"text-align: right;\">\n",
       "      <th></th>\n",
       "      <th>Unnamed: 0</th>\n",
       "      <th>carat</th>\n",
       "      <th>cut</th>\n",
       "      <th>color</th>\n",
       "      <th>clarity</th>\n",
       "      <th>depth</th>\n",
       "      <th>table</th>\n",
       "      <th>price</th>\n",
       "      <th>x</th>\n",
       "      <th>y</th>\n",
       "      <th>z</th>\n",
       "    </tr>\n",
       "  </thead>\n",
       "  <tbody>\n",
       "    <tr>\n",
       "      <th>27749</th>\n",
       "      <td>27750</td>\n",
       "      <td>2.29</td>\n",
       "      <td>Premium</td>\n",
       "      <td>I</td>\n",
       "      <td>VS2</td>\n",
       "      <td>60.8</td>\n",
       "      <td>60.0</td>\n",
       "      <td>18823</td>\n",
       "      <td>8.50</td>\n",
       "      <td>8.47</td>\n",
       "      <td>5.16</td>\n",
       "    </tr>\n",
       "    <tr>\n",
       "      <th>27748</th>\n",
       "      <td>27749</td>\n",
       "      <td>2.00</td>\n",
       "      <td>Very Good</td>\n",
       "      <td>G</td>\n",
       "      <td>SI1</td>\n",
       "      <td>63.5</td>\n",
       "      <td>56.0</td>\n",
       "      <td>18818</td>\n",
       "      <td>7.90</td>\n",
       "      <td>7.97</td>\n",
       "      <td>5.04</td>\n",
       "    </tr>\n",
       "    <tr>\n",
       "      <th>27747</th>\n",
       "      <td>27748</td>\n",
       "      <td>1.51</td>\n",
       "      <td>Ideal</td>\n",
       "      <td>G</td>\n",
       "      <td>IF</td>\n",
       "      <td>61.7</td>\n",
       "      <td>55.0</td>\n",
       "      <td>18806</td>\n",
       "      <td>7.37</td>\n",
       "      <td>7.41</td>\n",
       "      <td>4.56</td>\n",
       "    </tr>\n",
       "    <tr>\n",
       "      <th>27746</th>\n",
       "      <td>27747</td>\n",
       "      <td>2.07</td>\n",
       "      <td>Ideal</td>\n",
       "      <td>G</td>\n",
       "      <td>SI2</td>\n",
       "      <td>62.5</td>\n",
       "      <td>55.0</td>\n",
       "      <td>18804</td>\n",
       "      <td>8.20</td>\n",
       "      <td>8.13</td>\n",
       "      <td>5.11</td>\n",
       "    </tr>\n",
       "    <tr>\n",
       "      <th>27745</th>\n",
       "      <td>27746</td>\n",
       "      <td>2.00</td>\n",
       "      <td>Very Good</td>\n",
       "      <td>H</td>\n",
       "      <td>SI1</td>\n",
       "      <td>62.8</td>\n",
       "      <td>57.0</td>\n",
       "      <td>18803</td>\n",
       "      <td>7.95</td>\n",
       "      <td>8.00</td>\n",
       "      <td>5.01</td>\n",
       "    </tr>\n",
       "    <tr>\n",
       "      <th>27744</th>\n",
       "      <td>27745</td>\n",
       "      <td>2.29</td>\n",
       "      <td>Premium</td>\n",
       "      <td>I</td>\n",
       "      <td>SI1</td>\n",
       "      <td>61.8</td>\n",
       "      <td>59.0</td>\n",
       "      <td>18797</td>\n",
       "      <td>8.52</td>\n",
       "      <td>8.45</td>\n",
       "      <td>5.24</td>\n",
       "    </tr>\n",
       "    <tr>\n",
       "      <th>27742</th>\n",
       "      <td>27743</td>\n",
       "      <td>2.04</td>\n",
       "      <td>Premium</td>\n",
       "      <td>H</td>\n",
       "      <td>SI1</td>\n",
       "      <td>58.1</td>\n",
       "      <td>60.0</td>\n",
       "      <td>18795</td>\n",
       "      <td>8.37</td>\n",
       "      <td>8.28</td>\n",
       "      <td>4.84</td>\n",
       "    </tr>\n",
       "    <tr>\n",
       "      <th>27743</th>\n",
       "      <td>27744</td>\n",
       "      <td>2.00</td>\n",
       "      <td>Premium</td>\n",
       "      <td>I</td>\n",
       "      <td>VS1</td>\n",
       "      <td>60.8</td>\n",
       "      <td>59.0</td>\n",
       "      <td>18795</td>\n",
       "      <td>8.13</td>\n",
       "      <td>8.02</td>\n",
       "      <td>4.91</td>\n",
       "    </tr>\n",
       "    <tr>\n",
       "      <th>27740</th>\n",
       "      <td>27741</td>\n",
       "      <td>1.71</td>\n",
       "      <td>Premium</td>\n",
       "      <td>F</td>\n",
       "      <td>VS2</td>\n",
       "      <td>62.3</td>\n",
       "      <td>59.0</td>\n",
       "      <td>18791</td>\n",
       "      <td>7.57</td>\n",
       "      <td>7.53</td>\n",
       "      <td>4.70</td>\n",
       "    </tr>\n",
       "    <tr>\n",
       "      <th>27741</th>\n",
       "      <td>27742</td>\n",
       "      <td>2.15</td>\n",
       "      <td>Ideal</td>\n",
       "      <td>G</td>\n",
       "      <td>SI2</td>\n",
       "      <td>62.6</td>\n",
       "      <td>54.0</td>\n",
       "      <td>18791</td>\n",
       "      <td>8.29</td>\n",
       "      <td>8.35</td>\n",
       "      <td>5.21</td>\n",
       "    </tr>\n",
       "    <tr>\n",
       "      <th>27739</th>\n",
       "      <td>27740</td>\n",
       "      <td>2.80</td>\n",
       "      <td>Good</td>\n",
       "      <td>G</td>\n",
       "      <td>SI2</td>\n",
       "      <td>63.8</td>\n",
       "      <td>58.0</td>\n",
       "      <td>18788</td>\n",
       "      <td>8.90</td>\n",
       "      <td>8.85</td>\n",
       "      <td>0.00</td>\n",
       "    </tr>\n",
       "    <tr>\n",
       "      <th>27738</th>\n",
       "      <td>27739</td>\n",
       "      <td>2.05</td>\n",
       "      <td>Ideal</td>\n",
       "      <td>G</td>\n",
       "      <td>SI1</td>\n",
       "      <td>61.9</td>\n",
       "      <td>57.0</td>\n",
       "      <td>18787</td>\n",
       "      <td>8.10</td>\n",
       "      <td>8.16</td>\n",
       "      <td>5.03</td>\n",
       "    </tr>\n",
       "    <tr>\n",
       "      <th>27737</th>\n",
       "      <td>27738</td>\n",
       "      <td>2.05</td>\n",
       "      <td>Premium</td>\n",
       "      <td>F</td>\n",
       "      <td>SI2</td>\n",
       "      <td>60.2</td>\n",
       "      <td>59.0</td>\n",
       "      <td>18784</td>\n",
       "      <td>8.28</td>\n",
       "      <td>8.33</td>\n",
       "      <td>5.00</td>\n",
       "    </tr>\n",
       "    <tr>\n",
       "      <th>27736</th>\n",
       "      <td>27737</td>\n",
       "      <td>2.03</td>\n",
       "      <td>Very Good</td>\n",
       "      <td>H</td>\n",
       "      <td>SI1</td>\n",
       "      <td>63.0</td>\n",
       "      <td>60.0</td>\n",
       "      <td>18781</td>\n",
       "      <td>8.00</td>\n",
       "      <td>7.93</td>\n",
       "      <td>5.02</td>\n",
       "    </tr>\n",
       "    <tr>\n",
       "      <th>27735</th>\n",
       "      <td>27736</td>\n",
       "      <td>1.60</td>\n",
       "      <td>Ideal</td>\n",
       "      <td>F</td>\n",
       "      <td>VS1</td>\n",
       "      <td>62.0</td>\n",
       "      <td>56.0</td>\n",
       "      <td>18780</td>\n",
       "      <td>7.47</td>\n",
       "      <td>7.52</td>\n",
       "      <td>4.65</td>\n",
       "    </tr>\n",
       "    <tr>\n",
       "      <th>27734</th>\n",
       "      <td>27735</td>\n",
       "      <td>2.06</td>\n",
       "      <td>Ideal</td>\n",
       "      <td>I</td>\n",
       "      <td>VS2</td>\n",
       "      <td>62.2</td>\n",
       "      <td>55.0</td>\n",
       "      <td>18779</td>\n",
       "      <td>8.15</td>\n",
       "      <td>8.19</td>\n",
       "      <td>5.08</td>\n",
       "    </tr>\n",
       "    <tr>\n",
       "      <th>27733</th>\n",
       "      <td>27734</td>\n",
       "      <td>1.51</td>\n",
       "      <td>Very Good</td>\n",
       "      <td>F</td>\n",
       "      <td>VVS1</td>\n",
       "      <td>62.6</td>\n",
       "      <td>59.0</td>\n",
       "      <td>18777</td>\n",
       "      <td>7.33</td>\n",
       "      <td>7.24</td>\n",
       "      <td>4.56</td>\n",
       "    </tr>\n",
       "    <tr>\n",
       "      <th>27732</th>\n",
       "      <td>27733</td>\n",
       "      <td>1.71</td>\n",
       "      <td>Ideal</td>\n",
       "      <td>G</td>\n",
       "      <td>VVS2</td>\n",
       "      <td>62.1</td>\n",
       "      <td>55.0</td>\n",
       "      <td>18768</td>\n",
       "      <td>7.66</td>\n",
       "      <td>7.63</td>\n",
       "      <td>4.75</td>\n",
       "    </tr>\n",
       "    <tr>\n",
       "      <th>27731</th>\n",
       "      <td>27732</td>\n",
       "      <td>2.55</td>\n",
       "      <td>Premium</td>\n",
       "      <td>I</td>\n",
       "      <td>VS1</td>\n",
       "      <td>61.8</td>\n",
       "      <td>62.0</td>\n",
       "      <td>18766</td>\n",
       "      <td>8.70</td>\n",
       "      <td>8.65</td>\n",
       "      <td>5.36</td>\n",
       "    </tr>\n",
       "    <tr>\n",
       "      <th>27730</th>\n",
       "      <td>27731</td>\n",
       "      <td>2.08</td>\n",
       "      <td>Ideal</td>\n",
       "      <td>H</td>\n",
       "      <td>SI1</td>\n",
       "      <td>58.7</td>\n",
       "      <td>60.0</td>\n",
       "      <td>18760</td>\n",
       "      <td>8.36</td>\n",
       "      <td>8.40</td>\n",
       "      <td>4.92</td>\n",
       "    </tr>\n",
       "  </tbody>\n",
       "</table>\n",
       "</div>"
      ],
      "text/plain": [
       "       Unnamed: 0  carat        cut color clarity  depth  table  price     x  \\\n",
       "27749       27750   2.29    Premium     I     VS2   60.8   60.0  18823  8.50   \n",
       "27748       27749   2.00  Very Good     G     SI1   63.5   56.0  18818  7.90   \n",
       "27747       27748   1.51      Ideal     G      IF   61.7   55.0  18806  7.37   \n",
       "27746       27747   2.07      Ideal     G     SI2   62.5   55.0  18804  8.20   \n",
       "27745       27746   2.00  Very Good     H     SI1   62.8   57.0  18803  7.95   \n",
       "27744       27745   2.29    Premium     I     SI1   61.8   59.0  18797  8.52   \n",
       "27742       27743   2.04    Premium     H     SI1   58.1   60.0  18795  8.37   \n",
       "27743       27744   2.00    Premium     I     VS1   60.8   59.0  18795  8.13   \n",
       "27740       27741   1.71    Premium     F     VS2   62.3   59.0  18791  7.57   \n",
       "27741       27742   2.15      Ideal     G     SI2   62.6   54.0  18791  8.29   \n",
       "27739       27740   2.80       Good     G     SI2   63.8   58.0  18788  8.90   \n",
       "27738       27739   2.05      Ideal     G     SI1   61.9   57.0  18787  8.10   \n",
       "27737       27738   2.05    Premium     F     SI2   60.2   59.0  18784  8.28   \n",
       "27736       27737   2.03  Very Good     H     SI1   63.0   60.0  18781  8.00   \n",
       "27735       27736   1.60      Ideal     F     VS1   62.0   56.0  18780  7.47   \n",
       "27734       27735   2.06      Ideal     I     VS2   62.2   55.0  18779  8.15   \n",
       "27733       27734   1.51  Very Good     F    VVS1   62.6   59.0  18777  7.33   \n",
       "27732       27733   1.71      Ideal     G    VVS2   62.1   55.0  18768  7.66   \n",
       "27731       27732   2.55    Premium     I     VS1   61.8   62.0  18766  8.70   \n",
       "27730       27731   2.08      Ideal     H     SI1   58.7   60.0  18760  8.36   \n",
       "\n",
       "          y     z  \n",
       "27749  8.47  5.16  \n",
       "27748  7.97  5.04  \n",
       "27747  7.41  4.56  \n",
       "27746  8.13  5.11  \n",
       "27745  8.00  5.01  \n",
       "27744  8.45  5.24  \n",
       "27742  8.28  4.84  \n",
       "27743  8.02  4.91  \n",
       "27740  7.53  4.70  \n",
       "27741  8.35  5.21  \n",
       "27739  8.85  0.00  \n",
       "27738  8.16  5.03  \n",
       "27737  8.33  5.00  \n",
       "27736  7.93  5.02  \n",
       "27735  7.52  4.65  \n",
       "27734  8.19  5.08  \n",
       "27733  7.24  4.56  \n",
       "27732  7.63  4.75  \n",
       "27731  8.65  5.36  \n",
       "27730  8.40  4.92  "
      ]
     },
     "execution_count": 19,
     "metadata": {},
     "output_type": "execute_result"
    }
   ],
   "source": [
    "dff.head(20)"
   ]
  },
  {
   "cell_type": "code",
   "execution_count": 20,
   "id": "36e890e7-dbb6-4f72-8c6d-650739d3b51b",
   "metadata": {},
   "outputs": [],
   "source": [
    "df['volume'] = df['x'] * df['y'] * df['z']"
   ]
  },
  {
   "cell_type": "code",
   "execution_count": 21,
   "id": "e5130eb9-605f-47c9-8664-c85a2cdbc15d",
   "metadata": {},
   "outputs": [],
   "source": [
    "df = df.drop(columns=['x', 'y', 'z'])"
   ]
  },
  {
   "cell_type": "code",
   "execution_count": 22,
   "id": "f82c764f-1675-4917-a958-35ea4e462ab6",
   "metadata": {},
   "outputs": [],
   "source": [
    "cut_mapping = {\n",
    "    'Ideal': 5,\n",
    "    'Premium': 4,\n",
    "    'Very Good': 3,\n",
    "    'Good': 2,\n",
    "    'Fair': 1\n",
    "}\n",
    "df['cut'] = df['cut'].map(cut_mapping)"
   ]
  },
  {
   "cell_type": "code",
   "execution_count": 23,
   "id": "7980b57b-9023-4ae6-aa55-091b17fd777f",
   "metadata": {},
   "outputs": [],
   "source": [
    "color_mapping = {\n",
    "    'D': 7,\n",
    "    'E': 6,\n",
    "    'F': 5,\n",
    "    'G': 4,\n",
    "    'H': 3,\n",
    "    'I': 2,\n",
    "    'J': 1\n",
    "}\n",
    "df['color'] = df['color'].map(color_mapping)"
   ]
  },
  {
   "cell_type": "code",
   "execution_count": 24,
   "id": "a4a73229-0207-445d-9af1-4881a469af45",
   "metadata": {},
   "outputs": [],
   "source": [
    "clarity_mapping = {\n",
    "    'IF': 8,\n",
    "    'VVS1': 7,\n",
    "    'VVS2': 6,\n",
    "    'VS1': 5,\n",
    "    'VS2': 4,\n",
    "    'SI1': 3,\n",
    "    'SI2': 2,\n",
    "    'I1': 1\n",
    "}\n",
    "df['clarity'] = df['clarity'].map(clarity_mapping)"
   ]
  },
  {
   "cell_type": "code",
   "execution_count": 25,
   "id": "f0a774c5-97ad-4c92-9000-5645236cf626",
   "metadata": {},
   "outputs": [
    {
     "data": {
      "text/html": [
       "<div>\n",
       "<style scoped>\n",
       "    .dataframe tbody tr th:only-of-type {\n",
       "        vertical-align: middle;\n",
       "    }\n",
       "\n",
       "    .dataframe tbody tr th {\n",
       "        vertical-align: top;\n",
       "    }\n",
       "\n",
       "    .dataframe thead th {\n",
       "        text-align: right;\n",
       "    }\n",
       "</style>\n",
       "<table border=\"1\" class=\"dataframe\">\n",
       "  <thead>\n",
       "    <tr style=\"text-align: right;\">\n",
       "      <th></th>\n",
       "      <th>Unnamed: 0</th>\n",
       "      <th>carat</th>\n",
       "      <th>cut</th>\n",
       "      <th>color</th>\n",
       "      <th>clarity</th>\n",
       "      <th>depth</th>\n",
       "      <th>table</th>\n",
       "      <th>price</th>\n",
       "      <th>volume</th>\n",
       "    </tr>\n",
       "  </thead>\n",
       "  <tbody>\n",
       "    <tr>\n",
       "      <th>17686</th>\n",
       "      <td>17687</td>\n",
       "      <td>1.06</td>\n",
       "      <td>4</td>\n",
       "      <td>4</td>\n",
       "      <td>5</td>\n",
       "      <td>62.0</td>\n",
       "      <td>58.0</td>\n",
       "      <td>7130</td>\n",
       "      <td>172.957680</td>\n",
       "    </tr>\n",
       "    <tr>\n",
       "      <th>30156</th>\n",
       "      <td>30157</td>\n",
       "      <td>0.30</td>\n",
       "      <td>5</td>\n",
       "      <td>6</td>\n",
       "      <td>3</td>\n",
       "      <td>61.4</td>\n",
       "      <td>56.0</td>\n",
       "      <td>720</td>\n",
       "      <td>50.406396</td>\n",
       "    </tr>\n",
       "    <tr>\n",
       "      <th>17965</th>\n",
       "      <td>17966</td>\n",
       "      <td>1.25</td>\n",
       "      <td>4</td>\n",
       "      <td>6</td>\n",
       "      <td>3</td>\n",
       "      <td>60.9</td>\n",
       "      <td>59.0</td>\n",
       "      <td>7260</td>\n",
       "      <td>208.738296</td>\n",
       "    </tr>\n",
       "  </tbody>\n",
       "</table>\n",
       "</div>"
      ],
      "text/plain": [
       "       Unnamed: 0  carat  cut  color  clarity  depth  table  price      volume\n",
       "17686       17687   1.06    4      4        5   62.0   58.0   7130  172.957680\n",
       "30156       30157   0.30    5      6        3   61.4   56.0    720   50.406396\n",
       "17965       17966   1.25    4      6        3   60.9   59.0   7260  208.738296"
      ]
     },
     "execution_count": 25,
     "metadata": {},
     "output_type": "execute_result"
    }
   ],
   "source": [
    "df.sample(3)"
   ]
  },
  {
   "cell_type": "code",
   "execution_count": 26,
   "id": "7f104248-6528-4070-98f4-fe951453d530",
   "metadata": {},
   "outputs": [],
   "source": [
    "import seaborn as sns\n",
    "import matplotlib.pyplot as plt"
   ]
  },
  {
   "cell_type": "code",
   "execution_count": 27,
   "id": "af82835c-348c-44c1-8166-50322aa7df6f",
   "metadata": {},
   "outputs": [],
   "source": [
    "df = df.drop(columns=['Unnamed: 0'])"
   ]
  },
  {
   "cell_type": "code",
   "execution_count": 28,
   "id": "3d4130d2-1ebd-4e06-ab57-df7be5c6615d",
   "metadata": {},
   "outputs": [],
   "source": [
    "correlation_matrix = df.corr()"
   ]
  },
  {
   "cell_type": "code",
   "execution_count": 29,
   "id": "5ba9325d-8118-4905-9107-a80267149f18",
   "metadata": {},
   "outputs": [
    {
     "data": {
      "image/png": "[encoded data removed]",
      "text/plain": [
       "<Figure size 1000x800 with 2 Axes>"
      ]
     },
     "metadata": {},
     "output_type": "display_data"
    }
   ],
   "source": [
    "plt.figure(figsize=(10, 8))\n",
    "sns.heatmap(correlation_matrix, annot=True, cmap='coolwarm', fmt='.2f', linewidths=0.5)\n",
    "plt.title('Price ile Diğer Özellikler Arasındaki Korelasyon');"
   ]
  },
  {
   "cell_type": "code",
   "execution_count": 30,
   "id": "3d017fb5-6af4-4b06-b967-3cb4d44c14a4",
   "metadata": {},
   "outputs": [
    {
     "name": "stdout",
     "output_type": "stream",
     "text": [
      "price      1.000000\n",
      "carat      0.921591\n",
      "volume     0.902385\n",
      "table      0.127134\n",
      "depth     -0.010647\n",
      "cut       -0.053491\n",
      "clarity   -0.146800\n",
      "color     -0.172511\n",
      "Name: price, dtype: float64\n"
     ]
    }
   ],
   "source": [
    "correlation_matrix = df.corr()\n",
    "price_correlation = correlation_matrix['price']\n",
    "price_correlation_sorted = price_correlation.sort_values(ascending=False)\n",
    "print(price_correlation_sorted)"
   ]
  },
  {
   "cell_type": "code",
   "execution_count": 31,
   "id": "52d68119-7e76-4d64-a42e-6924f99d8c7d",
   "metadata": {},
   "outputs": [],
   "source": [
    "x = df.drop(columns=['price'])"
   ]
  },
  {
   "cell_type": "code",
   "execution_count": 32,
   "id": "ad75360a-1ca2-484f-928a-1e7f1926ed82",
   "metadata": {},
   "outputs": [],
   "source": [
    "y = df['price']"
   ]
  },
  {
   "cell_type": "code",
   "execution_count": 33,
   "id": "eaf9f6ca-8ee1-47e2-a5ec-e7451e54eb38",
   "metadata": {},
   "outputs": [],
   "source": [
    "from sklearn.model_selection import train_test_split"
   ]
  },
  {
   "cell_type": "code",
   "execution_count": 34,
   "id": "f66023f1-c6ea-477f-9bb1-7ae1502ada27",
   "metadata": {},
   "outputs": [],
   "source": [
    "x_train, x_test, y_train, y_test = train_test_split(x, y, test_size=0.2, random_state=42)"
   ]
  },
  {
   "cell_type": "code",
   "execution_count": 35,
   "id": "1f7ff8f3-15c0-4ce7-8aaf-ba79b7e06fd0",
   "metadata": {},
   "outputs": [
    {
     "name": "stdout",
     "output_type": "stream",
     "text": [
      "                                R-Squared          RMSE           MAE\n",
      "Linear Regression            9.033338e-01  1.239631e+03  8.540894e+02\n",
      "Ridge                        9.033416e-01  1.239581e+03  8.540004e+02\n",
      "Lasso                        9.033761e-01  1.239360e+03  8.534817e+02\n",
      "ElasticNet                   8.981451e-01  1.272466e+03  8.204076e+02\n",
      "SGD Regressor               -9.671156e+17  3.920977e+12  3.584562e+12\n",
      "Extra Tree Regressor         9.663727e-01  7.311414e+02  3.596990e+02\n",
      "Gradient Boosting Regressor  9.763280e-01  6.134413e+02  3.395824e+02\n",
      "KNeighbors Regressor         9.597000e-01  8.004011e+02  4.031928e+02\n",
      "RadiusNeighbors Regressor   -2.512509e+30  6.319882e+18  4.330402e+18\n",
      "AdaBoost Regressor           9.191220e-01  1.133888e+03  8.669717e+02\n",
      "Decision Tree Regressor      9.687220e-01  7.051383e+02  3.499560e+02\n",
      "XGB Regressor                9.810282e-01  5.491729e+02  2.780178e+02\n",
      "SVR                          6.985746e-01  2.188997e+03  1.065378e+03\n",
      "MLP Regressor                9.564022e-01  8.325061e+02  4.721352e+02\n"
     ]
    }
   ],
   "source": [
    "from sklearn.metrics import mean_squared_error, mean_absolute_error, r2_score, accuracy_score\n",
    "from math import sqrt\n",
    "from sklearn.linear_model import LinearRegression, Ridge, Lasso, ElasticNet\n",
    "from sklearn.linear_model import SGDRegressor\n",
    "from sklearn.tree import DecisionTreeRegressor\n",
    "from sklearn.ensemble import ExtraTreesRegressor, GradientBoostingRegressor, AdaBoostRegressor\n",
    "from sklearn.neighbors import KNeighborsRegressor, RadiusNeighborsRegressor\n",
    "from sklearn.tree import ExtraTreeRegressor\n",
    "from sklearn.svm import SVR\n",
    "from xgboost import XGBRegressor\n",
    "from sklearn.neural_network import MLPRegressor\n",
    "\n",
    "# Model dictionary\n",
    "models = {\n",
    "    'Linear Regression': LinearRegression(),\n",
    "    'Ridge': Ridge(),\n",
    "    'Lasso': Lasso(),\n",
    "    'ElasticNet': ElasticNet(),\n",
    "    'SGD Regressor': SGDRegressor(),\n",
    "    'Extra Tree Regressor': ExtraTreeRegressor(),\n",
    "    'Gradient Boosting Regressor': GradientBoostingRegressor(),\n",
    "    'KNeighbors Regressor': KNeighborsRegressor(),\n",
    "    'RadiusNeighbors Regressor': RadiusNeighborsRegressor(),\n",
    "    'AdaBoost Regressor': AdaBoostRegressor(),\n",
    "    'Decision Tree Regressor': DecisionTreeRegressor(),\n",
    "    'XGB Regressor': XGBRegressor(),\n",
    "    'SVR': SVR(),\n",
    "    'MLP Regressor': MLPRegressor()\n",
    "}\n",
    "\n",
    "# Evaluation results\n",
    "results = {}\n",
    "\n",
    "# Train and evaluate models\n",
    "for name, model in models.items():\n",
    "    model.fit(x_train, y_train)\n",
    "    y_pred = model.predict(x_test)\n",
    "    \n",
    "    r_squared = r2_score(y_test, y_pred)\n",
    "    rmse = sqrt(mean_squared_error(y_test, y_pred))\n",
    "    mae = mean_absolute_error(y_test, y_pred)\n",
    "    \n",
    "    # Save the results\n",
    "    results[name] = {\n",
    "        'R-Squared': r_squared,\n",
    "        'RMSE': rmse,\n",
    "        'MAE': mae\n",
    "    }\n",
    "\n",
    "# Display the results\n",
    "results_df = pd.DataFrame(results).T\n",
    "print(results_df)\n"
   ]
  },
  {
   "cell_type": "code",
   "execution_count": 36,
   "id": "fcc224c9-2978-43f7-aafa-8256cc15c2f8",
   "metadata": {},
   "outputs": [
    {
     "data": {
      "text/plain": [
       "['xgb_regressor_model.pkl']"
      ]
     },
     "execution_count": 36,
     "metadata": {},
     "output_type": "execute_result"
    }
   ],
   "source": [
    "import joblib\n",
    "\n",
    "# En iyi modeli seçin\n",
    "best_model = models['XGB Regressor']\n",
    "\n",
    "# Modeli kaydedin\n",
    "joblib.dump(best_model, 'xgb_regressor_model.pkl')"
   ]
  },
  {
   "cell_type": "markdown",
   "id": "c7164b18-d8bc-4556-a96a-989c97d1957b",
   "metadata": {},
   "source": [
    "## Sonuç"
   ]
  },
  {
   "cell_type": "markdown",
   "id": "20aa5f24-0d2b-4726-8429-3879571c271a",
   "metadata": {},
   "source": [
    "Model performansına bakıldığında, XGB Regressor (R-Squared = 0.981, RMSE = 549.17, MAE = 278.02), fiyat tahmini konusunda en güçlü model olarak öne çıkmaktadır."
   ]
  },
  {
   "cell_type": "code",
   "execution_count": null,
   "id": "fe180ab6-401a-4087-9f61-27ecfcc36373",
   "metadata": {},
   "outputs": [],
   "source": []
  }
 ],
 "metadata": {
  "kernelspec": {
   "display_name": "Python 3 (ipykernel)",
   "language": "python",
   "name": "python3"
  },
  "language_info": {
   "codemirror_mode": {
    "name": "ipython",
    "version": 3
   },
   "file_extension": ".py",
   "mimetype": "text/x-python",
   "name": "python",
   "nbconvert_exporter": "python",
   "pygments_lexer": "ipython3",
   "version": "3.12.7"
  }
 },
 "nbformat": 4,
 "nbformat_minor": 5
}
